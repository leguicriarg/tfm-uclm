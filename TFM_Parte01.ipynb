{
 "cells": [
  {
   "cell_type": "markdown",
   "id": "a92eb299-0322-4634-92c9-c59fdb905dd2",
   "metadata": {},
   "source": [
    "# TFM - Cristian Leguisamon - Universidad Castilla-La Mancha \n",
    "## Master en ciencia de datos e ingeniería de datos en la nube\n",
    "### TFM - Parte 01"
   ]
  },
  {
   "cell_type": "code",
   "execution_count": 31,
   "id": "1c414319-a203-42f4-80c3-ca1b52aa6255",
   "metadata": {},
   "outputs": [],
   "source": [
    "import pandas as pd\n",
    "import numpy as np\n",
    "import json\n",
    "import sklearn\n",
    "from sklearn.linear_model import LinearRegression\n",
    "\n",
    "data_folder = \"Data FitBit\"\n",
    "data_folder_nutrition = \"Data Nutrition\"\n",
    "df_dailyActivity = pd.read_csv(f\"{data_folder}/dailyActivity_merged.csv\")\n",
    "df_weightLogInfo = pd.read_csv(f\"{data_folder}/weightLogInfo_merged.csv\")\n",
    "limit_height = [140,200]\n",
    "std_dev_height = 10\n",
    "limit_bmi = [20,40]\n",
    "std_dev_bmi = 5\n",
    "limit_weight=[50,150]"
   ]
  },
  {
   "cell_type": "markdown",
   "id": "c4150e31-a057-4dc4-9330-c38dac8d6b76",
   "metadata": {},
   "source": [
    "Se realizan transformaciones sobre el dataframe weightLogInfo"
   ]
  },
  {
   "cell_type": "code",
   "execution_count": 32,
   "id": "c754170c-f73d-4372-8505-b122fbeda50e",
   "metadata": {},
   "outputs": [],
   "source": [
    "df_weightLogInfo = df_weightLogInfo.fillna(0)\n",
    "df_weightLogInfo['Date'] = pd.to_datetime(df_weightLogInfo['Date'], format='%m/%d/%Y %I:%M:%S %p')\n",
    "df_weightLogInfo = df_weightLogInfo.sort_values(by=['Id', 'Date'], ascending=[True, False])\n",
    "idx_most_recent = df_weightLogInfo.groupby('Id')['Date'].idxmax()\n",
    "df_weightLogInfo = df_weightLogInfo.loc[idx_most_recent]\n",
    "df_weightLogInfo = df_weightLogInfo.reset_index(drop=True)\n",
    "id_user_list_da = df_dailyActivity['Id'].unique()\n",
    "id_user_weight = df_weightLogInfo['Id'].unique()\n",
    "id_user_list_da = [id_user for id_user in id_user_list_da if id_user not in id_user_weight]\n",
    "df_weightLogInfo.drop(['WeightPounds', 'IsManualReport', 'LogId', 'Fat'], axis=1, inplace=True)\n",
    "df_weightLogInfo[['WeightKg', 'BMI']] = df_weightLogInfo[['WeightKg', 'BMI']].round(2)\n",
    "df_weightLogInfo['Date'] = pd.to_datetime(df_weightLogInfo['Date']).dt.date\n",
    "df_weightLogInfo['Height'] = round(np.sqrt(df_weightLogInfo['WeightKg'] / df_weightLogInfo['BMI']) * 100, 2)\n",
    "columns_df = df_weightLogInfo.columns.tolist()\n",
    "max_date = df_weightLogInfo['Date'].max()"
   ]
  },
  {
   "cell_type": "code",
   "execution_count": 33,
   "id": "dbd27701-0488-4603-af14-728fdd930ef0",
   "metadata": {},
   "outputs": [],
   "source": [
    "data = {column: [0] * len(id_user_list_da) for column in columns_df}\n",
    "data['Id'] = id_user_list_da\n",
    "df_result = pd.DataFrame(data)"
   ]
  },
  {
   "cell_type": "code",
   "execution_count": 34,
   "id": "d6d0731e-e3b0-4fd9-8641-2fac96d7bfb4",
   "metadata": {},
   "outputs": [],
   "source": [
    "def calculate_coeficients(df_weightLogInfo):\n",
    "    X = df_weightLogInfo[['BMI', 'Height']]\n",
    "    y = df_weightLogInfo['WeightKg']\n",
    "    reg = LinearRegression()\n",
    "    reg.fit(X, y)\n",
    "    coef_bmi = reg.coef_[0]\n",
    "    coef_height = reg.coef_[1]\n",
    "    intercept = reg.intercept_\n",
    "    return coef_bmi, coef_height, intercept\n",
    "\n",
    "for idx, row in df_result.iterrows():\n",
    "    new_rows = []\n",
    "    coef_bmi, coef_height,intercept = calculate_coeficients(df_weightLogInfo)\n",
    "    mean_height = np.mean(limit_height)\n",
    "    height_value = np.random.normal(mean_height, std_dev_height)           \n",
    "    mean_bmi = np.mean(limit_bmi)\n",
    "    bmi = np.random.normal(mean_bmi, std_dev_bmi)\n",
    "    new_row = {\n",
    "        'Id': row['Id'],\n",
    "        'Date': row['Date'],\n",
    "        'WeightKg': 0,\n",
    "        'BMI': bmi,\n",
    "        'Height': height_value,\n",
    "    }\n",
    "    new_rows.append(new_row)\n",
    "    df_tmp = pd.DataFrame(new_rows)\n",
    "    df_weightLogInfo = pd.concat([df_weightLogInfo, df_tmp], ignore_index=True)\n",
    "\n",
    "df_weightLogInfo['Date'] = df_weightLogInfo['Date'].replace(0, np.nan)\n",
    "df_weightLogInfo['Date'].fillna(max_date, inplace=True)\n",
    "df_weightLogInfo[['WeightKg', 'BMI','Height']] = df_weightLogInfo[['WeightKg', 'BMI','Height']].round(2)\n",
    "df_weightLogInfo['WeightKg'] = df_weightLogInfo['BMI'] * (df_weightLogInfo['Height'] / 100) ** 2"
   ]
  },
  {
   "cell_type": "code",
   "execution_count": 35,
   "id": "dcf38e47-5dc2-4e1b-b317-730becced55a",
   "metadata": {},
   "outputs": [
    {
     "name": "stdout",
     "output_type": "stream",
     "text": [
      "           Id        Date    WeightKg    BMI  Height\n",
      "0  1503960366  2016-05-03   52.599443  22.65  152.39\n",
      "1  1927972279  2016-04-13  133.506850  47.54  167.58\n",
      "2  2873212765  2016-05-12   57.303357  21.69  162.54\n",
      "3  4319703577  2016-05-04   72.300313  27.38  162.50\n",
      "4  4558609924  2016-05-09   69.102721  27.00  159.98\n"
     ]
    }
   ],
   "source": [
    "print(df_weightLogInfo.head())"
   ]
  },
  {
   "cell_type": "markdown",
   "id": "668278df-391c-4f8c-b10d-135befed1407",
   "metadata": {},
   "source": [
    "Combinamos los dataframes de informacion diaria con la informacion del peso de cada persona"
   ]
  },
  {
   "cell_type": "code",
   "execution_count": 36,
   "id": "b19792e7-20f7-4868-aa6e-b1b23ce9f857",
   "metadata": {},
   "outputs": [],
   "source": [
    "merged_df = df_weightLogInfo.merge(df_dailyActivity, on='Id', how='inner')\n",
    "merged_df.drop(['TrackerDistance','LoggedActivitiesDistance','SedentaryActiveDistance','ActivityDate'], axis=1, inplace=True)"
   ]
  },
  {
   "cell_type": "code",
   "execution_count": 37,
   "id": "ee179a79-2757-494c-ab5b-0208bb783e5a",
   "metadata": {},
   "outputs": [],
   "source": [
    "merged_df['Date'] = pd.to_datetime(merged_df['Date'], format='%m/%d/%Y %I:%M:%S %p')\n",
    "merged_df = merged_df.sort_values(by=['Id', 'Date'], ascending=[True, False])\n",
    "idx_most_recent = merged_df.groupby('Id')['Date'].idxmax()\n",
    "merged_df = merged_df.loc[idx_most_recent]\n",
    "merged_df = merged_df.reset_index(drop=True)\n",
    "avg_weight = merged_df['WeightKg'].mean()\n",
    "merged_df.loc[merged_df['WeightKg'] < 45, 'WeightKg'] = avg_weight"
   ]
  },
  {
   "cell_type": "markdown",
   "id": "47776c6f-05fe-4a54-91be-e8dfe9f94e17",
   "metadata": {},
   "source": [
    "Agregamos la columna 'age', simulando datos con una distribución triangular. También calculamos un estimador de nivel de actividad que luego es utilizado para el calculo de nutrientes necesarios. Para calcular la edad, utilizo una distribucion triangular porque los valores centrales en el rango 20 - 85 deberían tener mas probabilidad de aparecer en el listado. Los datos del rango de edad de los usuarios de esta pulsera, fueron consultados en distintas fuentes de internet."
   ]
  },
  {
   "cell_type": "code",
   "execution_count": 38,
   "id": "53dd9cec-b14e-45ee-b42f-9daec8edca44",
   "metadata": {},
   "outputs": [],
   "source": [
    "merged_df['age'] = 0\n",
    "num_samples = len(merged_df)\n",
    "ages = np.random.triangular(20, 45, 85, size=num_samples)\n",
    "merged_df['age'] = ages\n",
    "merged_df['age'] = merged_df['age'].astype(int)\n",
    "merged_df['ActiveMinutes'] = merged_df['VeryActiveMinutes'] + merged_df['FairlyActiveMinutes'] + merged_df['LightlyActiveMinutes']\n",
    "merged_df['ActiveDistance'] = merged_df['VeryActiveDistance'] + merged_df['ModeratelyActiveDistance'] + merged_df['LightActiveDistance']"
   ]
  },
  {
   "cell_type": "code",
   "execution_count": 39,
   "id": "314cc04a-2b6d-42e5-a4a6-b46c37aaaec0",
   "metadata": {},
   "outputs": [],
   "source": [
    "average_very_active_minutes = merged_df['ActiveMinutes'].mean()\n",
    "average_very_active_distance = merged_df['ActiveDistance'].mean()\n",
    "def calculate_status_activity(row):\n",
    "    if row['ActiveMinutes'] < average_very_active_minutes - 0.1 * average_very_active_minutes:\n",
    "        return 1\n",
    "    elif average_very_active_minutes - 0.1 * average_very_active_minutes <= row['ActiveMinutes'] <= average_very_active_minutes + 0.1 * average_very_active_minutes:\n",
    "        return 1.25\n",
    "    elif average_very_active_minutes + 0.1 * average_very_active_minutes < row['ActiveMinutes'] <= average_very_active_minutes + 0.5 * average_very_active_minutes:\n",
    "        return 1.5\n",
    "    else:\n",
    "        return 1.75"
   ]
  },
  {
   "cell_type": "code",
   "execution_count": 40,
   "id": "81dd5a00-553f-44da-8771-23b53a37b388",
   "metadata": {},
   "outputs": [],
   "source": [
    "def calculate_status_distance(row):\n",
    "    if row['ActiveDistance'] < average_very_active_distance - 0.1 * average_very_active_distance:\n",
    "        return 1\n",
    "    elif average_very_active_distance - 0.1 * average_very_active_distance <= row['ActiveDistance'] <= average_very_active_distance + 0.1 * average_very_active_distance:\n",
    "        return 1.25\n",
    "    elif average_very_active_distance + 0.1 * average_very_active_distance < row['ActiveDistance'] <= average_very_active_distance + 0.5 * average_very_active_distance:\n",
    "        return 1.5\n",
    "    else:\n",
    "        return 1.75"
   ]
  },
  {
   "cell_type": "code",
   "execution_count": 41,
   "id": "2a44dc53-8106-4ec2-adb1-e92cec1c4354",
   "metadata": {},
   "outputs": [],
   "source": [
    "merged_df['status_activity'] = merged_df.apply(calculate_status_activity, axis=1)\n",
    "merged_df['status_distance'] = merged_df.apply(calculate_status_distance, axis=1)\n",
    "merged_df['avg_activity'] = (merged_df['status_activity'] + merged_df['status_distance']) / 2\n",
    "merged_df['eerest'] = round(66.5 + (13.7 * merged_df['WeightKg']) + (5.0 * merged_df['Height']) - (6.8 * merged_df['age']),2)"
   ]
  },
  {
   "cell_type": "code",
   "execution_count": 42,
   "id": "bcc7441c-50fd-4466-9f05-1fe11449a1fd",
   "metadata": {},
   "outputs": [],
   "source": [
    "def calculate_EErest(row):\n",
    "    if row['avg_activity'] == 1:\n",
    "        return row['eerest'] + row['eerest'] * 0.2\n",
    "    elif 1 < row['avg_activity'] < 1.25:\n",
    "        return row['eerest'] + row['eerest'] * 0.3\n",
    "    elif row['avg_activity'] >= 1.25:\n",
    "        return row['eerest'] + row['eerest'] * 0.5\n",
    "    else:\n",
    "        return row['eerest']"
   ]
  },
  {
   "cell_type": "code",
   "execution_count": 44,
   "id": "2ddf493b-69d2-4165-824f-116d8a10db3f",
   "metadata": {},
   "outputs": [],
   "source": [
    "def calculate_liquid(row):\n",
    "    if row['age'] <= 30:\n",
    "        return 40 * row['WeightKg']\n",
    "    elif row['age'] > 30 and row['age'] <= 55:\n",
    "        return 35 * row['WeightKg']\n",
    "    elif row['age'] > 55 and row['age'] <= 75:\n",
    "        return 30 * row['WeightKg']\n",
    "    else:\n",
    "        return 25 * row['WeightKg']"
   ]
  },
  {
   "cell_type": "code",
   "execution_count": 45,
   "id": "bd3e0ee4-a6a9-4d7d-a3c5-4dff1ba40d82",
   "metadata": {},
   "outputs": [
    {
     "name": "stdout",
     "output_type": "stream",
     "text": [
      "           Id       Date    WeightKg    BMI  Height  TotalSteps  \\\n",
      "0  1503960366 2016-05-03   52.599443  22.65  152.39       13162   \n",
      "1  1624580081 2016-05-12   61.619125  24.34  159.11        8163   \n",
      "2  1644430081 2016-05-12   77.056403  25.95  172.32       10694   \n",
      "3  1844505072 2016-05-12   83.720222  30.12  166.72        6697   \n",
      "4  1927972279 2016-04-13  133.506850  47.54  167.58         678   \n",
      "\n",
      "   TotalDistance  VeryActiveDistance  ModeratelyActiveDistance  \\\n",
      "0           8.50                1.88                      0.55   \n",
      "1           5.31                0.00                      0.00   \n",
      "2           7.77                0.14                      2.30   \n",
      "3           4.43                0.00                      0.00   \n",
      "4           0.47                0.00                      0.00   \n",
      "\n",
      "   LightActiveDistance  ...  SedentaryMinutes  Calories  age  ActiveMinutes  \\\n",
      "0                 6.06  ...               728      1985   38            366   \n",
      "1                 5.31  ...              1294      1432   41            146   \n",
      "2                 5.33  ...              1131      3199   21            309   \n",
      "3                 4.43  ...              1101      2030   44            339   \n",
      "4                 0.47  ...               734      2220   37             55   \n",
      "\n",
      "   ActiveDistance  status_activity  status_distance  avg_activity   eerest  \\\n",
      "0            8.49             1.75             1.75         1.750  2903.98   \n",
      "1            5.31             1.00             1.25         1.125  2412.36   \n",
      "2            7.77             1.50             1.50         1.500  4142.19   \n",
      "3            4.43             1.50             1.00         1.250  3932.70   \n",
      "4            0.47             1.00             1.00         1.000  3573.85   \n",
      "\n",
      "    liquid  \n",
      "0  1840.98  \n",
      "1  2156.67  \n",
      "2  3082.26  \n",
      "3  2930.21  \n",
      "4  4672.74  \n",
      "\n",
      "[5 rows x 23 columns]\n"
     ]
    }
   ],
   "source": [
    "merged_df['eerest'] = round(merged_df.apply(calculate_EErest, axis=1),2)\n",
    "merged_df['liquid'] = round(merged_df.apply(calculate_liquid, axis=1),2)\n",
    "print(merged_df.head())"
   ]
  },
  {
   "cell_type": "markdown",
   "id": "aeba9ea7-1a11-462f-a3bc-8106f0d60892",
   "metadata": {},
   "source": [
    "Tratamiento de los datos relacionados de nutrientes"
   ]
  },
  {
   "cell_type": "code",
   "execution_count": 46,
   "id": "61bdf508-17a7-470a-8590-e84e8d09614f",
   "metadata": {},
   "outputs": [
    {
     "data": {
      "text/html": [
       "<div>\n",
       "<style scoped>\n",
       "    .dataframe tbody tr th:only-of-type {\n",
       "        vertical-align: middle;\n",
       "    }\n",
       "\n",
       "    .dataframe tbody tr th {\n",
       "        vertical-align: top;\n",
       "    }\n",
       "\n",
       "    .dataframe thead th {\n",
       "        text-align: right;\n",
       "    }\n",
       "</style>\n",
       "<table border=\"1\" class=\"dataframe\">\n",
       "  <thead>\n",
       "    <tr style=\"text-align: right;\">\n",
       "      <th></th>\n",
       "      <th>name</th>\n",
       "      <th>energy (kcal/kJ)</th>\n",
       "      <th>water (g)</th>\n",
       "      <th>protein (g)</th>\n",
       "      <th>total fat (g)</th>\n",
       "      <th>carbohydrates (g)</th>\n",
       "      <th>fiber (g)</th>\n",
       "      <th>sugars (g)</th>\n",
       "      <th>calcium (mg)</th>\n",
       "      <th>iron (mg)</th>\n",
       "      <th>...</th>\n",
       "      <th>potassium (mg)</th>\n",
       "      <th>sodium (g)</th>\n",
       "      <th>vitamin A (IU)</th>\n",
       "      <th>vitamin C (mg)</th>\n",
       "      <th>vitamin B1 (mg)</th>\n",
       "      <th>vitamin B2 (mg)</th>\n",
       "      <th>viatmin B3 (mg)</th>\n",
       "      <th>vitamin B5 (mg)</th>\n",
       "      <th>vitamin B6 (mg)</th>\n",
       "      <th>vitamin E (mg)</th>\n",
       "    </tr>\n",
       "  </thead>\n",
       "  <tbody>\n",
       "    <tr>\n",
       "      <th>0</th>\n",
       "      <td>Apple nutrition facts</td>\n",
       "      <td>48/200</td>\n",
       "      <td>86.70</td>\n",
       "      <td>0.27</td>\n",
       "      <td>0.13</td>\n",
       "      <td>12.70</td>\n",
       "      <td>1.3</td>\n",
       "      <td>10.1</td>\n",
       "      <td>5</td>\n",
       "      <td>0.07</td>\n",
       "      <td>...</td>\n",
       "      <td>90</td>\n",
       "      <td>0</td>\n",
       "      <td>38</td>\n",
       "      <td>4.0</td>\n",
       "      <td>19</td>\n",
       "      <td>28</td>\n",
       "      <td>91</td>\n",
       "      <td>71</td>\n",
       "      <td>37</td>\n",
       "      <td>0.05</td>\n",
       "    </tr>\n",
       "    <tr>\n",
       "      <th>1</th>\n",
       "      <td>Apricot nutrition facts</td>\n",
       "      <td>48/201</td>\n",
       "      <td>86.40</td>\n",
       "      <td>1.40</td>\n",
       "      <td>0.39</td>\n",
       "      <td>11.12</td>\n",
       "      <td>2</td>\n",
       "      <td>9.24</td>\n",
       "      <td>13</td>\n",
       "      <td>0.39</td>\n",
       "      <td>...</td>\n",
       "      <td>259</td>\n",
       "      <td>1</td>\n",
       "      <td>1926</td>\n",
       "      <td>10.0</td>\n",
       "      <td>0.03</td>\n",
       "      <td>0.04</td>\n",
       "      <td>0.6</td>\n",
       "      <td>0.24</td>\n",
       "      <td>54</td>\n",
       "      <td>0.89</td>\n",
       "    </tr>\n",
       "    <tr>\n",
       "      <th>2</th>\n",
       "      <td>Artichokes, cooked</td>\n",
       "      <td>53/220</td>\n",
       "      <td>84.08</td>\n",
       "      <td>2.89</td>\n",
       "      <td>0.34</td>\n",
       "      <td>11.95</td>\n",
       "      <td>8.6</td>\n",
       "      <td>0.99</td>\n",
       "      <td>21</td>\n",
       "      <td>0.61</td>\n",
       "      <td>...</td>\n",
       "      <td>286</td>\n",
       "      <td>60</td>\n",
       "      <td>13</td>\n",
       "      <td>7.4</td>\n",
       "      <td>0.05</td>\n",
       "      <td>89</td>\n",
       "      <td>1.11</td>\n",
       "      <td>0.24</td>\n",
       "      <td>81</td>\n",
       "      <td>0.19</td>\n",
       "    </tr>\n",
       "    <tr>\n",
       "      <th>3</th>\n",
       "      <td>Asparagus, cooked</td>\n",
       "      <td>22/94</td>\n",
       "      <td>92.63</td>\n",
       "      <td>2.40</td>\n",
       "      <td>0.22</td>\n",
       "      <td>4.11</td>\n",
       "      <td>2</td>\n",
       "      <td>1.3</td>\n",
       "      <td>23</td>\n",
       "      <td>0.91</td>\n",
       "      <td>...</td>\n",
       "      <td>224</td>\n",
       "      <td>14</td>\n",
       "      <td>1006</td>\n",
       "      <td>7.7</td>\n",
       "      <td>162</td>\n",
       "      <td>139</td>\n",
       "      <td>1084</td>\n",
       "      <td>225</td>\n",
       "      <td>79</td>\n",
       "      <td>1.5</td>\n",
       "    </tr>\n",
       "    <tr>\n",
       "      <th>4</th>\n",
       "      <td>Avocado nutrition</td>\n",
       "      <td>160/670</td>\n",
       "      <td>73.23</td>\n",
       "      <td>2.00</td>\n",
       "      <td>14.70</td>\n",
       "      <td>8.53</td>\n",
       "      <td>6.7</td>\n",
       "      <td>0.66</td>\n",
       "      <td>12</td>\n",
       "      <td>0.55</td>\n",
       "      <td>...</td>\n",
       "      <td>485</td>\n",
       "      <td>7</td>\n",
       "      <td>146</td>\n",
       "      <td>10.0</td>\n",
       "      <td>67</td>\n",
       "      <td>0.13</td>\n",
       "      <td>1738</td>\n",
       "      <td>1389</td>\n",
       "      <td>257</td>\n",
       "      <td>2.07</td>\n",
       "    </tr>\n",
       "  </tbody>\n",
       "</table>\n",
       "<p>5 rows × 22 columns</p>\n",
       "</div>"
      ],
      "text/plain": [
       "                      name energy (kcal/kJ)  water (g)  protein (g)  \\\n",
       "0    Apple nutrition facts           48/200      86.70         0.27   \n",
       "1  Apricot nutrition facts           48/201      86.40         1.40   \n",
       "2       Artichokes, cooked           53/220      84.08         2.89   \n",
       "3        Asparagus, cooked            22/94      92.63         2.40   \n",
       "4        Avocado nutrition          160/670      73.23         2.00   \n",
       "\n",
       "   total fat (g)  carbohydrates (g) fiber (g) sugars (g)  calcium (mg)  \\\n",
       "0           0.13              12.70       1.3       10.1             5   \n",
       "1           0.39              11.12         2       9.24            13   \n",
       "2           0.34              11.95       8.6       0.99            21   \n",
       "3           0.22               4.11         2        1.3            23   \n",
       "4          14.70               8.53       6.7       0.66            12   \n",
       "\n",
       "   iron (mg)  ... potassium (mg)  sodium (g) vitamin A (IU) vitamin C (mg)  \\\n",
       "0       0.07  ...             90           0             38            4.0   \n",
       "1       0.39  ...            259           1           1926           10.0   \n",
       "2       0.61  ...            286          60             13            7.4   \n",
       "3       0.91  ...            224          14           1006            7.7   \n",
       "4       0.55  ...            485           7            146           10.0   \n",
       "\n",
       "  vitamin B1 (mg)  vitamin B2 (mg) viatmin B3 (mg) vitamin B5 (mg)  \\\n",
       "0              19               28              91              71   \n",
       "1            0.03             0.04             0.6            0.24   \n",
       "2            0.05               89            1.11            0.24   \n",
       "3             162              139            1084             225   \n",
       "4              67             0.13            1738            1389   \n",
       "\n",
       "  vitamin B6 (mg) vitamin E (mg)  \n",
       "0              37           0.05  \n",
       "1              54           0.89  \n",
       "2              81           0.19  \n",
       "3              79            1.5  \n",
       "4             257           2.07  \n",
       "\n",
       "[5 rows x 22 columns]"
      ]
     },
     "execution_count": 46,
     "metadata": {},
     "output_type": "execute_result"
    }
   ],
   "source": [
    "#merged_df.to_csv(f\"{data_folder}/final_usr_dataset.csv\", index=False)\n",
    "df_vegetables = pd.read_csv(f\"{data_folder_nutrition}/vegetables_dataset.csv\")\n",
    "df_vegetables.head()"
   ]
  },
  {
   "cell_type": "code",
   "execution_count": 47,
   "id": "82152931-8b43-4511-ab13-7ad8e7272483",
   "metadata": {},
   "outputs": [],
   "source": [
    "calories_per_gram_fat = 9\n",
    "calories_per_gram_protein = 4\n",
    "calories_per_gram_carbohydrates = 4\n",
    "conversion_factor = 1000\n",
    "#Calculamos nuevas columnas para unificar la unidad de medida\n",
    "df_vegetables['Fats'] = df_vegetables['total fat (g)'] * calories_per_gram_fat\n",
    "df_vegetables['Proteins'] = df_vegetables['protein (g)'] * calories_per_gram_protein\n",
    "df_vegetables[['energy_kcal', 'energy_kJ']] = df_vegetables['energy (kcal/kJ)'].str.split('/', expand=True)\n",
    "df_vegetables['Calories'] = pd.to_numeric(df_vegetables['energy_kcal'])\n",
    "df_vegetables['Carbohydrates'] = df_vegetables['carbohydrates (g)'] * calories_per_gram_carbohydrates\n",
    "df_vegetables.rename(columns={'fiber (g)': 'Fiber'}, inplace=True)\n",
    "df_vegetables.rename(columns={'vitamin C (mg)': 'Vitamin C'}, inplace=True)\n",
    "df_vegetables.rename(columns={'sugars (g)': 'Sugar'}, inplace=True)\n",
    "df_vegetables.rename(columns={'calcium (mg)': 'Calcium'}, inplace=True)\n",
    "columns_names = df_vegetables.columns.values\n",
    "columns_keep = ['name','Fiber','Vitamin C', 'Fats', 'Sugar','Calcium','Proteins', 'Calories', 'Carbohydrates']\n",
    "columns_to_delete = df_vegetables.columns.difference(columns_keep)\n",
    "df_vegetables = df_vegetables.drop(columns=columns_to_delete)\n",
    "df_vegetables['Category'] = 'vegetables'"
   ]
  },
  {
   "cell_type": "code",
   "execution_count": 48,
   "id": "cda5ad89-b09c-4842-b471-1ffc06772e74",
   "metadata": {},
   "outputs": [],
   "source": [
    "meals_dataset = pd.read_csv(\"Data Nutrition/meals_dataset.csv\")"
   ]
  },
  {
   "cell_type": "code",
   "execution_count": 49,
   "id": "6effbcb7-2cff-4a7d-b12a-a8707cbf1aa7",
   "metadata": {},
   "outputs": [],
   "source": [
    "new_column_names = ['name','Fiber','Vitamin C','Fats','Proteins','Calories','Sugar','Calcium','Carbohydrates','Category']\n",
    "meals_dataset.rename(columns=dict(zip(meals_dataset.columns, new_column_names)), inplace=True)\n",
    "new_column_order = meals_dataset.columns\n",
    "df_vegetables = df_vegetables.reindex(columns=new_column_order)"
   ]
  },
  {
   "cell_type": "code",
   "execution_count": null,
   "id": "3c7ede89-68aa-461c-9d39-b7e709eaa9a8",
   "metadata": {},
   "outputs": [],
   "source": [
    "#df_vegetables.to_csv(\"final_vegetables.csv\", index=False)\n",
    "#concatenated_df = pd.concat([df_vegetables, meals_dataset], axis=0)\n",
    "#concatenated_df.to_csv(\"complete_nutrition_dataset.csv\", index=False)"
   ]
  },
  {
   "cell_type": "markdown",
   "id": "e230db4c-f256-4ac1-86bf-d23453227cc9",
   "metadata": {},
   "source": [
    "* El dataset de alimentos fue ampliado para incorporar alimentos mas variados\n",
    "* La conversion entre unidad de medidas fue realizada siguiendo fuentes de internet\n",
    "* Cálculos sobre BMI realizados conforme fuentes de internet y sitios web especializados\n",
    "* La estimacion del nivel de actividad de una persona es un ajuste de este proyecto y sin verificación científica."
   ]
  }
 ],
 "metadata": {
  "kernelspec": {
   "display_name": "Python 3 (ipykernel)",
   "language": "python",
   "name": "python3"
  },
  "language_info": {
   "codemirror_mode": {
    "name": "ipython",
    "version": 3
   },
   "file_extension": ".py",
   "mimetype": "text/x-python",
   "name": "python",
   "nbconvert_exporter": "python",
   "pygments_lexer": "ipython3",
   "version": "3.10.12"
  }
 },
 "nbformat": 4,
 "nbformat_minor": 5
}
